{
 "cells": [
  {
   "cell_type": "code",
   "execution_count": null,
   "metadata": {},
   "outputs": [],
   "source": [
    "import mysql.connector\n",
    "from dotenv import load_dotenv\n",
    "import os\n",
    "\n",
    "load_dotenv()\n",
    "\n",
    "mydb = mysql.connector.connect(\n",
    "  host=os.environ['DB_HOST'],\n",
    "  user=os.environ['DB_USER'],\n",
    "  password=os.environ['DB_PASSWORD'],\n",
    "  database=os.environ['DB_DATABASE']\n",
    ")\n",
    "cursor = mydb.cursor()\n",
    "\n",
    "cursor.execute(\"SELECT distinct stock_name FROM acao_historico\")\n",
    "\n",
    "myresult = cursor.fetchall()\n",
    "\n",
    "for stock_name in myresult:\n",
    "    print('Preparando dados da ação: '+stock_name[0])\n",
    "    executor = mydb.cursor()\n",
    "    executor.execute(\"call prepare_acao_historico_train('\"+stock_name[0]+\"')\")\n",
    "    executor.close();\n",
    "    print('Dados preparados!')\n",
    "\n",
    "cursor.close()"
   ]
  },
  {
   "cell_type": "code",
   "execution_count": 7,
   "metadata": {},
   "outputs": [
    {
     "name": "stdout",
     "output_type": "stream",
     "text": [
      "192.168.1.200\n"
     ]
    }
   ],
   "source": []
  }
 ],
 "metadata": {
  "kernelspec": {
   "display_name": "Python 3.8.10 64-bit (windows store)",
   "language": "python",
   "name": "python3"
  },
  "language_info": {
   "codemirror_mode": {
    "name": "ipython",
    "version": 3
   },
   "file_extension": ".py",
   "mimetype": "text/x-python",
   "name": "python",
   "nbconvert_exporter": "python",
   "pygments_lexer": "ipython3",
   "version": "3.8.10"
  },
  "orig_nbformat": 4,
  "vscode": {
   "interpreter": {
    "hash": "37732729c0781a435259e9861159cca5ef8c5c39d29c217566ff5da3de2d4cca"
   }
  }
 },
 "nbformat": 4,
 "nbformat_minor": 2
}
