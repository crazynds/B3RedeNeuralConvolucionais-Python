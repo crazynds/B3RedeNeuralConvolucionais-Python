{
 "cells": [
  {
   "cell_type": "code",
   "execution_count": null,
   "metadata": {},
   "outputs": [],
   "source": []
  }
 ],
 "metadata": {
  "kernelspec": {
   "display_name": "Python 3.8.10 64-bit (windows store)",
   "language": "python",
   "name": "python3"
  },
  "language_info": {
   "name": "python",
   "version": "3.8.10"
  },
  "orig_nbformat": 4,
  "vscode": {
   "interpreter": {
    "hash": "37732729c0781a435259e9861159cca5ef8c5c39d29c217566ff5da3de2d4cca"
   }
  }
 },
 "nbformat": 4,
 "nbformat_minor": 2
}
